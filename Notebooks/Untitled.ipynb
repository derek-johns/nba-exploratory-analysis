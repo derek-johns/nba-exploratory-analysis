{
 "cells": [
  {
   "cell_type": "markdown",
   "id": "21e4d85e",
   "metadata": {},
   "source": [
    "# Exploratory Data Analysis for NBA 2020-21 Season  \n",
    "* **Data Source:** [nba-api](https://github.com/swar/nba_api)"
   ]
  },
  {
   "cell_type": "code",
   "execution_count": 1,
   "id": "9c8554ca",
   "metadata": {},
   "outputs": [],
   "source": [
    "import pandas as pd"
   ]
  },
  {
   "cell_type": "code",
   "execution_count": null,
   "id": "74ee9179",
   "metadata": {},
   "outputs": [],
   "source": []
  }
 ],
 "metadata": {
  "kernelspec": {
   "display_name": "nba-exploratory-kernel",
   "language": "python",
   "name": "nba_exploratory_env"
  },
  "language_info": {
   "codemirror_mode": {
    "name": "ipython",
    "version": 3
   },
   "file_extension": ".py",
   "mimetype": "text/x-python",
   "name": "python",
   "nbconvert_exporter": "python",
   "pygments_lexer": "ipython3",
   "version": "3.7.3"
  }
 },
 "nbformat": 4,
 "nbformat_minor": 5
}
